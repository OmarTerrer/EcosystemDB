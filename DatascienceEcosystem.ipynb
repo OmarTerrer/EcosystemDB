{
 "cells": [
  {
   "cell_type": "markdown",
   "id": "dbd9e2e5",
   "metadata": {},
   "source": [
    "# Data Science Tools and Ecosystem\n",
    "\n"
   ]
  },
  {
   "cell_type": "markdown",
   "id": "e925388b",
   "metadata": {},
   "source": [
    "## **This notebook summarizes the data sciense tools and ecosystem **"
   ]
  },
  {
   "cell_type": "markdown",
   "id": "fcce730a",
   "metadata": {},
   "source": [
    "**Goals:**\n",
    "learn the mos common languages and libraries in the aplication of data science\n",
    "+ python\n",
    "+ Tensorflow\n",
    "+ SQL\n",
    "+ Scikit-learn"
   ]
  },
  {
   "cell_type": "markdown",
   "id": "7f9789dc",
   "metadata": {},
   "source": [
    "Some of the more popular languages that data science use are:\n",
    "\n",
    "1. PYTHON\n",
    "2. R\n",
    "3. SQL"
   ]
  },
  {
   "cell_type": "markdown",
   "id": "0bf4822b",
   "metadata": {},
   "source": [
    "Some of the commonly used libraries used by data science:\n",
    "1. Pandas\n",
    "2. NumPY\n",
    "3. Matplotlib\n",
    "4. Seaborn\n",
    "5. Tensorflow\n",
    "6. Keras\n",
    "7. Scikit-learn"
   ]
  },
  {
   "cell_type": "markdown",
   "id": "2e667676",
   "metadata": {},
   "source": [
    "|**Data science tools**|\n",
    "|----------------------|\n",
    "|python|\n",
    "|Anaconda|\n",
    "|Tensorflow|"
   ]
  },
  {
   "cell_type": "markdown",
   "id": "8ed600d7",
   "metadata": {},
   "source": [
    "### Below are some examples of evaluating arithmetic expressions in python\n",
    "\n"
   ]
  },
  {
   "cell_type": "code",
   "execution_count": 6,
   "id": "cfe08336",
   "metadata": {},
   "outputs": [
    {
     "name": "stdout",
     "output_type": "stream",
     "text": [
      "17\n"
     ]
    }
   ],
   "source": [
    "# This is a simple arithmetic expression to then add integers\n",
    "x = (3*4)+5\n",
    "print(x)"
   ]
  },
  {
   "cell_type": "code",
   "execution_count": 5,
   "id": "c46b914b",
   "metadata": {},
   "outputs": [
    {
     "name": "stdout",
     "output_type": "stream",
     "text": [
      "3.3333333333333335\n"
     ]
    }
   ],
   "source": [
    "# This will convert 200 minutes to hours divided by 60.\n",
    "x = 200\n",
    "y = x/60\n",
    "print(y)"
   ]
  },
  {
   "cell_type": "markdown",
   "id": "baabed13",
   "metadata": {},
   "source": [
    "## author:\n",
    "Omar Terreros Vazquez"
   ]
  }
 ],
 "metadata": {
  "kernelspec": {
   "display_name": "Python 3 (ipykernel)",
   "language": "python",
   "name": "python3"
  },
  "language_info": {
   "codemirror_mode": {
    "name": "ipython",
    "version": 3
   },
   "file_extension": ".py",
   "mimetype": "text/x-python",
   "name": "python",
   "nbconvert_exporter": "python",
   "pygments_lexer": "ipython3",
   "version": "3.11.3"
  }
 },
 "nbformat": 4,
 "nbformat_minor": 5
}
